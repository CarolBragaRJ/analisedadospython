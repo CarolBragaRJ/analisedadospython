{
 "cells": [
  {
   "cell_type": "code",
   "execution_count": null,
   "metadata": {},
   "outputs": [],
   "source": [
    "# isso é um comentário"
   ]
  },
  {
   "cell_type": "code",
   "execution_count": 5,
   "metadata": {},
   "outputs": [],
   "source": [
    "import pandas as pd"
   ]
  },
  {
   "cell_type": "code",
   "execution_count": null,
   "metadata": {},
   "outputs": [],
   "source": [
    "# carregar o arquivo csv e o pandas vai converter o arquivo em dataframe ou df"
   ]
  },
  {
   "cell_type": "code",
   "execution_count": 6,
   "metadata": {},
   "outputs": [
    {
     "data": {
      "text/html": [
       "<div>\n",
       "<style scoped>\n",
       "    .dataframe tbody tr th:only-of-type {\n",
       "        vertical-align: middle;\n",
       "    }\n",
       "\n",
       "    .dataframe tbody tr th {\n",
       "        vertical-align: top;\n",
       "    }\n",
       "\n",
       "    .dataframe thead th {\n",
       "        text-align: right;\n",
       "    }\n",
       "</style>\n",
       "<table border=\"1\" class=\"dataframe\">\n",
       "  <thead>\n",
       "    <tr style=\"text-align: right;\">\n",
       "      <th></th>\n",
       "      <th>CODIGO_UNIDADE</th>\n",
       "      <th>NOME_UNIDADE</th>\n",
       "      <th>DT_AUTORIZA_FUNCIONA_UNID</th>\n",
       "      <th>NOME_REGIAO_UNIDADE</th>\n",
       "      <th>SIGLA_UF_UNIDADE</th>\n",
       "      <th>NOME_MUNICIPIO_UNIDADE</th>\n",
       "      <th>NOME_MESORREGIAO_UNIDADE</th>\n",
       "      <th>NOME_MICRORREGIAO_UNIDADE</th>\n",
       "    </tr>\n",
       "  </thead>\n",
       "  <tbody>\n",
       "    <tr>\n",
       "      <th>0</th>\n",
       "      <td>2879</td>\n",
       "      <td>INSTITUTO FEDERAL DA BAHIA - CAMPUS EUNÁPOLIS</td>\n",
       "      <td>07-01-2009</td>\n",
       "      <td>Nordeste</td>\n",
       "      <td>BA</td>\n",
       "      <td>Eunápolis</td>\n",
       "      <td>Sul Baiano</td>\n",
       "      <td>Porto Seguro</td>\n",
       "    </tr>\n",
       "    <tr>\n",
       "      <th>1</th>\n",
       "      <td>2948</td>\n",
       "      <td>INSTITUTO FEDERAL BAIANO - CAMPUS ITAPETINGA</td>\n",
       "      <td>07-01-2009</td>\n",
       "      <td>Nordeste</td>\n",
       "      <td>BA</td>\n",
       "      <td>Itapetinga</td>\n",
       "      <td>Centro Sul Baiano</td>\n",
       "      <td>Itapetinga</td>\n",
       "    </tr>\n",
       "    <tr>\n",
       "      <th>2</th>\n",
       "      <td>14328</td>\n",
       "      <td>INSTITUTO FEDERAL DO ACRE - CAMPUS SENA MADUREIRA</td>\n",
       "      <td>30-12-2008</td>\n",
       "      <td>Norte</td>\n",
       "      <td>AC</td>\n",
       "      <td>Sena Madureira</td>\n",
       "      <td>Vale do Acre</td>\n",
       "      <td>Sena Madureira</td>\n",
       "    </tr>\n",
       "    <tr>\n",
       "      <th>3</th>\n",
       "      <td>14547</td>\n",
       "      <td>INSTITUTO FEDERAL DE ALAGOAS - CAMPUS ARAPIRACA</td>\n",
       "      <td>06-07-2010</td>\n",
       "      <td>Nordeste</td>\n",
       "      <td>AL</td>\n",
       "      <td>Arapiraca</td>\n",
       "      <td>Agreste Alagoano</td>\n",
       "      <td>Arapiraca</td>\n",
       "    </tr>\n",
       "    <tr>\n",
       "      <th>4</th>\n",
       "      <td>32010</td>\n",
       "      <td>INSTITUTO FEDERAL DE ALAGOAS - CAMPUS CORURIPE</td>\n",
       "      <td>22-01-2014</td>\n",
       "      <td>Nordeste</td>\n",
       "      <td>AL</td>\n",
       "      <td>Coruripe</td>\n",
       "      <td>Leste Alagoano</td>\n",
       "      <td>São Miguel dos Campos</td>\n",
       "    </tr>\n",
       "  </tbody>\n",
       "</table>\n",
       "</div>"
      ],
      "text/plain": [
       "   CODIGO_UNIDADE                                       NOME_UNIDADE  \\\n",
       "0            2879      INSTITUTO FEDERAL DA BAHIA - CAMPUS EUNÁPOLIS   \n",
       "1            2948       INSTITUTO FEDERAL BAIANO - CAMPUS ITAPETINGA   \n",
       "2           14328  INSTITUTO FEDERAL DO ACRE - CAMPUS SENA MADUREIRA   \n",
       "3           14547    INSTITUTO FEDERAL DE ALAGOAS - CAMPUS ARAPIRACA   \n",
       "4           32010     INSTITUTO FEDERAL DE ALAGOAS - CAMPUS CORURIPE   \n",
       "\n",
       "  DT_AUTORIZA_FUNCIONA_UNID NOME_REGIAO_UNIDADE SIGLA_UF_UNIDADE  \\\n",
       "0                07-01-2009            Nordeste               BA   \n",
       "1                07-01-2009            Nordeste               BA   \n",
       "2                30-12-2008               Norte               AC   \n",
       "3                06-07-2010            Nordeste               AL   \n",
       "4                22-01-2014            Nordeste               AL   \n",
       "\n",
       "  NOME_MUNICIPIO_UNIDADE NOME_MESORREGIAO_UNIDADE NOME_MICRORREGIAO_UNIDADE  \n",
       "0              Eunápolis               Sul Baiano              Porto Seguro  \n",
       "1             Itapetinga        Centro Sul Baiano                Itapetinga  \n",
       "2         Sena Madureira             Vale do Acre            Sena Madureira  \n",
       "3              Arapiraca         Agreste Alagoano                 Arapiraca  \n",
       "4               Coruripe           Leste Alagoano     São Miguel dos Campos  "
      ]
     },
     "execution_count": 6,
     "metadata": {},
     "output_type": "execute_result"
    }
   ],
   "source": [
    "df = pd.read_csv('PDA_UNIDADES_RF_EPCT_CSV.csv', sep = ';', encoding = 'cp1252')\n",
    "\n",
    "# o arquivo é separado por ; e tem que informar o separador\n",
    "# o arquivo é codificado como cp1252\n",
    "# mostra as cinco primeiras linhas do df\n",
    "df.head()"
   ]
  },
  {
   "cell_type": "code",
   "execution_count": 7,
   "metadata": {},
   "outputs": [
    {
     "data": {
      "text/plain": [
       "CODIGO_UNIDADE               618\n",
       "NOME_UNIDADE                 618\n",
       "DT_AUTORIZA_FUNCIONA_UNID    618\n",
       "NOME_REGIAO_UNIDADE          618\n",
       "SIGLA_UF_UNIDADE             618\n",
       "NOME_MUNICIPIO_UNIDADE       618\n",
       "NOME_MESORREGIAO_UNIDADE     618\n",
       "NOME_MICRORREGIAO_UNIDADE    618\n",
       "dtype: int64"
      ]
     },
     "execution_count": 7,
     "metadata": {},
     "output_type": "execute_result"
    }
   ],
   "source": [
    "# quantas escolas no arquivo?\n",
    "\n",
    "df.count()"
   ]
  },
  {
   "cell_type": "code",
   "execution_count": 8,
   "metadata": {},
   "outputs": [
    {
     "data": {
      "text/html": [
       "<div>\n",
       "<style scoped>\n",
       "    .dataframe tbody tr th:only-of-type {\n",
       "        vertical-align: middle;\n",
       "    }\n",
       "\n",
       "    .dataframe tbody tr th {\n",
       "        vertical-align: top;\n",
       "    }\n",
       "\n",
       "    .dataframe thead th {\n",
       "        text-align: right;\n",
       "    }\n",
       "</style>\n",
       "<table border=\"1\" class=\"dataframe\">\n",
       "  <thead>\n",
       "    <tr style=\"text-align: right;\">\n",
       "      <th></th>\n",
       "      <th>CODIGO_UNIDADE</th>\n",
       "    </tr>\n",
       "  </thead>\n",
       "  <tbody>\n",
       "    <tr>\n",
       "      <th>count</th>\n",
       "      <td>618.000000</td>\n",
       "    </tr>\n",
       "    <tr>\n",
       "      <th>mean</th>\n",
       "      <td>16255.610032</td>\n",
       "    </tr>\n",
       "    <tr>\n",
       "      <th>std</th>\n",
       "      <td>12973.588737</td>\n",
       "    </tr>\n",
       "    <tr>\n",
       "      <th>min</th>\n",
       "      <td>354.000000</td>\n",
       "    </tr>\n",
       "    <tr>\n",
       "      <th>25%</th>\n",
       "      <td>2998.500000</td>\n",
       "    </tr>\n",
       "    <tr>\n",
       "      <th>50%</th>\n",
       "      <td>13840.500000</td>\n",
       "    </tr>\n",
       "    <tr>\n",
       "      <th>75%</th>\n",
       "      <td>30818.250000</td>\n",
       "    </tr>\n",
       "    <tr>\n",
       "      <th>max</th>\n",
       "      <td>44307.000000</td>\n",
       "    </tr>\n",
       "  </tbody>\n",
       "</table>\n",
       "</div>"
      ],
      "text/plain": [
       "       CODIGO_UNIDADE\n",
       "count      618.000000\n",
       "mean     16255.610032\n",
       "std      12973.588737\n",
       "min        354.000000\n",
       "25%       2998.500000\n",
       "50%      13840.500000\n",
       "75%      30818.250000\n",
       "max      44307.000000"
      ]
     },
     "execution_count": 8,
     "metadata": {},
     "output_type": "execute_result"
    }
   ],
   "source": [
    "# descreve as colunas numericas\n",
    "\n",
    "df.describe()"
   ]
  },
  {
   "cell_type": "code",
   "execution_count": 9,
   "metadata": {},
   "outputs": [
    {
     "data": {
      "text/plain": [
       "CODIGO_UNIDADE                int64\n",
       "NOME_UNIDADE                 object\n",
       "DT_AUTORIZA_FUNCIONA_UNID    object\n",
       "NOME_REGIAO_UNIDADE          object\n",
       "SIGLA_UF_UNIDADE             object\n",
       "NOME_MUNICIPIO_UNIDADE       object\n",
       "NOME_MESORREGIAO_UNIDADE     object\n",
       "NOME_MICRORREGIAO_UNIDADE    object\n",
       "dtype: object"
      ]
     },
     "execution_count": 9,
     "metadata": {},
     "output_type": "execute_result"
    }
   ],
   "source": [
    "# mostra os tipos de cada coluna do df\n",
    "\n",
    "df.dtypes"
   ]
  },
  {
   "cell_type": "code",
   "execution_count": 10,
   "metadata": {},
   "outputs": [
    {
     "data": {
      "text/plain": [
       "Nordeste        202\n",
       "Sudeste         163\n",
       "Sul             116\n",
       "Norte            70\n",
       "Centro-Oeste     67\n",
       "Name: NOME_REGIAO_UNIDADE, dtype: int64"
      ]
     },
     "execution_count": 10,
     "metadata": {},
     "output_type": "execute_result"
    }
   ],
   "source": [
    "# quantas escolas existem em cada regiao do Brasil\n",
    "\n",
    "df['NOME_REGIAO_UNIDADE'].value_counts()"
   ]
  },
  {
   "cell_type": "code",
   "execution_count": 11,
   "metadata": {},
   "outputs": [
    {
     "data": {
      "text/plain": [
       "MG    67\n",
       "RS    45\n",
       "RJ    39\n",
       "SC    36\n",
       "PR    35\n",
       "SP    35\n",
       "BA    34\n",
       "MA    27\n",
       "CE    27\n",
       "GO    26\n",
       "PI    23\n",
       "RN    23\n",
       "PE    23\n",
       "ES    22\n",
       "PB    21\n",
       "PA    20\n",
       "MT    19\n",
       "AL    16\n",
       "AM    15\n",
       "TO    11\n",
       "DF    11\n",
       "MS    11\n",
       "SE     8\n",
       "RO     8\n",
       "AC     6\n",
       "RR     6\n",
       "AP     4\n",
       "Name: SIGLA_UF_UNIDADE, dtype: int64"
      ]
     },
     "execution_count": 11,
     "metadata": {},
     "output_type": "execute_result"
    }
   ],
   "source": [
    "# vamos contar por unidade da federacao (estado)\n",
    "\n",
    "df['SIGLA_UF_UNIDADE'].value_counts()"
   ]
  },
  {
   "cell_type": "code",
   "execution_count": 12,
   "metadata": {},
   "outputs": [
    {
     "data": {
      "text/plain": [
       "<matplotlib.axes._subplots.AxesSubplot at 0x11d2bec88>"
      ]
     },
     "execution_count": 12,
     "metadata": {},
     "output_type": "execute_result"
    },
    {
     "data": {
      "image/png": "[encoded data removed]",
      "text/plain": [
       "<Figure size 432x288 with 1 Axes>"
      ]
     },
     "metadata": {
      "needs_background": "light"
     },
     "output_type": "display_data"
    }
   ],
   "source": [
    "# mostrando os dados em um grafico, precisamos informar que queremos visualizar o grafico dentro do proprio notebook\n",
    "\n",
    "%matplotlib inline\n",
    "\n",
    "# vamos pegar as escolas por uf e mostrar em grafico de barras\n",
    "\n",
    "df['SIGLA_UF_UNIDADE'].value_counts().plot.bar()\n"
   ]
  },
  {
   "cell_type": "code",
   "execution_count": 13,
   "metadata": {},
   "outputs": [
    {
     "data": {
      "text/html": [
       "<div>\n",
       "<style scoped>\n",
       "    .dataframe tbody tr th:only-of-type {\n",
       "        vertical-align: middle;\n",
       "    }\n",
       "\n",
       "    .dataframe tbody tr th {\n",
       "        vertical-align: top;\n",
       "    }\n",
       "\n",
       "    .dataframe thead th {\n",
       "        text-align: right;\n",
       "    }\n",
       "</style>\n",
       "<table border=\"1\" class=\"dataframe\">\n",
       "  <thead>\n",
       "    <tr style=\"text-align: right;\">\n",
       "      <th></th>\n",
       "      <th>CODIGO_UNIDADE</th>\n",
       "      <th>NOME_UNIDADE</th>\n",
       "      <th>DT_AUTORIZA_FUNCIONA_UNID</th>\n",
       "      <th>NOME_REGIAO_UNIDADE</th>\n",
       "      <th>SIGLA_UF_UNIDADE</th>\n",
       "      <th>NOME_MUNICIPIO_UNIDADE</th>\n",
       "      <th>NOME_MESORREGIAO_UNIDADE</th>\n",
       "      <th>NOME_MICRORREGIAO_UNIDADE</th>\n",
       "    </tr>\n",
       "  </thead>\n",
       "  <tbody>\n",
       "    <tr>\n",
       "      <th>613</th>\n",
       "      <td>32008</td>\n",
       "      <td>INSTITUTO FEDERAL CATARINENSE CAMPUS AVANÇADO ...</td>\n",
       "      <td>22-01-2014</td>\n",
       "      <td>Sul</td>\n",
       "      <td>SC</td>\n",
       "      <td>Sombrio</td>\n",
       "      <td>Sul Catarinense</td>\n",
       "      <td>Araranguá</td>\n",
       "    </tr>\n",
       "    <tr>\n",
       "      <th>614</th>\n",
       "      <td>13699</td>\n",
       "      <td>INSTITUTO FEDERAL CATARINENSE - CAMPUS VIDEIRA</td>\n",
       "      <td>06-01-2010</td>\n",
       "      <td>Sul</td>\n",
       "      <td>SC</td>\n",
       "      <td>Videira</td>\n",
       "      <td>Oeste Catarinense</td>\n",
       "      <td>Joaçaba</td>\n",
       "    </tr>\n",
       "    <tr>\n",
       "      <th>615</th>\n",
       "      <td>14357</td>\n",
       "      <td>INSTITUTO FEDERAL DE SÃO PAULO - CAMPUS PRESID...</td>\n",
       "      <td>03-12-2010</td>\n",
       "      <td>Sudeste</td>\n",
       "      <td>SP</td>\n",
       "      <td>Presidente Epitácio</td>\n",
       "      <td>Presidente Prudente</td>\n",
       "      <td>Presidente Prudente</td>\n",
       "    </tr>\n",
       "    <tr>\n",
       "      <th>616</th>\n",
       "      <td>14037</td>\n",
       "      <td>INSTITUTO FEDERAL DE SÃO PAULO - CAMPUS SUZANO</td>\n",
       "      <td>30-12-2008</td>\n",
       "      <td>Sudeste</td>\n",
       "      <td>SP</td>\n",
       "      <td>Suzano</td>\n",
       "      <td>Metropolitana de São Paulo</td>\n",
       "      <td>Mogi das Cruzes</td>\n",
       "    </tr>\n",
       "    <tr>\n",
       "      <th>617</th>\n",
       "      <td>2970</td>\n",
       "      <td>INSTITUTO FEDERAL DO TOCANTINS - CAMPUS PALMAS</td>\n",
       "      <td>06-01-2009</td>\n",
       "      <td>Norte</td>\n",
       "      <td>TO</td>\n",
       "      <td>Palmas</td>\n",
       "      <td>Oriental do Tocantins</td>\n",
       "      <td>Porto Nacional</td>\n",
       "    </tr>\n",
       "  </tbody>\n",
       "</table>\n",
       "</div>"
      ],
      "text/plain": [
       "     CODIGO_UNIDADE                                       NOME_UNIDADE  \\\n",
       "613           32008  INSTITUTO FEDERAL CATARINENSE CAMPUS AVANÇADO ...   \n",
       "614           13699     INSTITUTO FEDERAL CATARINENSE - CAMPUS VIDEIRA   \n",
       "615           14357  INSTITUTO FEDERAL DE SÃO PAULO - CAMPUS PRESID...   \n",
       "616           14037     INSTITUTO FEDERAL DE SÃO PAULO - CAMPUS SUZANO   \n",
       "617            2970     INSTITUTO FEDERAL DO TOCANTINS - CAMPUS PALMAS   \n",
       "\n",
       "    DT_AUTORIZA_FUNCIONA_UNID NOME_REGIAO_UNIDADE SIGLA_UF_UNIDADE  \\\n",
       "613                22-01-2014                 Sul               SC   \n",
       "614                06-01-2010                 Sul               SC   \n",
       "615                03-12-2010             Sudeste               SP   \n",
       "616                30-12-2008             Sudeste               SP   \n",
       "617                06-01-2009               Norte               TO   \n",
       "\n",
       "    NOME_MUNICIPIO_UNIDADE    NOME_MESORREGIAO_UNIDADE  \\\n",
       "613                Sombrio             Sul Catarinense   \n",
       "614                Videira           Oeste Catarinense   \n",
       "615    Presidente Epitácio         Presidente Prudente   \n",
       "616                 Suzano  Metropolitana de São Paulo   \n",
       "617                 Palmas       Oriental do Tocantins   \n",
       "\n",
       "    NOME_MICRORREGIAO_UNIDADE  \n",
       "613                 Araranguá  \n",
       "614                   Joaçaba  \n",
       "615       Presidente Prudente  \n",
       "616           Mogi das Cruzes  \n",
       "617            Porto Nacional  "
      ]
     },
     "execution_count": 13,
     "metadata": {},
     "output_type": "execute_result"
    }
   ],
   "source": [
    "df.tail()"
   ]
  },
  {
   "cell_type": "code",
   "execution_count": 15,
   "metadata": {},
   "outputs": [
    {
     "data": {
      "text/html": [
       "<div>\n",
       "<style scoped>\n",
       "    .dataframe tbody tr th:only-of-type {\n",
       "        vertical-align: middle;\n",
       "    }\n",
       "\n",
       "    .dataframe tbody tr th {\n",
       "        vertical-align: top;\n",
       "    }\n",
       "\n",
       "    .dataframe thead th {\n",
       "        text-align: right;\n",
       "    }\n",
       "</style>\n",
       "<table border=\"1\" class=\"dataframe\">\n",
       "  <thead>\n",
       "    <tr style=\"text-align: right;\">\n",
       "      <th></th>\n",
       "      <th>CODIGO_UNIDADE</th>\n",
       "      <th>NOME_UNIDADE</th>\n",
       "      <th>DT_AUTORIZA_FUNCIONA_UNID</th>\n",
       "      <th>NOME_REGIAO_UNIDADE</th>\n",
       "      <th>SIGLA_UF_UNIDADE</th>\n",
       "      <th>NOME_MUNICIPIO_UNIDADE</th>\n",
       "      <th>NOME_MESORREGIAO_UNIDADE</th>\n",
       "      <th>NOME_MICRORREGIAO_UNIDADE</th>\n",
       "    </tr>\n",
       "  </thead>\n",
       "  <tbody>\n",
       "    <tr>\n",
       "      <th>127</th>\n",
       "      <td>20449</td>\n",
       "      <td>CENTRO FEDERAL DE EDUCAÇÃO TECNOLÓGICA CELSO S...</td>\n",
       "      <td>29-12-2008</td>\n",
       "      <td>Sudeste</td>\n",
       "      <td>RJ</td>\n",
       "      <td>Itaguaí</td>\n",
       "      <td>Metropolitana do Rio de Janeiro</td>\n",
       "      <td>Itaguaí</td>\n",
       "    </tr>\n",
       "    <tr>\n",
       "      <th>441</th>\n",
       "      <td>20063</td>\n",
       "      <td>INSTITUTO FEDERAL DE SERGIPE - CAMPUS ITABAIANA</td>\n",
       "      <td>30-12-2008</td>\n",
       "      <td>Nordeste</td>\n",
       "      <td>SE</td>\n",
       "      <td>Itabaiana</td>\n",
       "      <td>Agreste Sergipano</td>\n",
       "      <td>Agreste de Itabaiana</td>\n",
       "    </tr>\n",
       "  </tbody>\n",
       "</table>\n",
       "</div>"
      ],
      "text/plain": [
       "     CODIGO_UNIDADE                                       NOME_UNIDADE  \\\n",
       "127           20449  CENTRO FEDERAL DE EDUCAÇÃO TECNOLÓGICA CELSO S...   \n",
       "441           20063    INSTITUTO FEDERAL DE SERGIPE - CAMPUS ITABAIANA   \n",
       "\n",
       "    DT_AUTORIZA_FUNCIONA_UNID NOME_REGIAO_UNIDADE SIGLA_UF_UNIDADE  \\\n",
       "127                29-12-2008             Sudeste               RJ   \n",
       "441                30-12-2008            Nordeste               SE   \n",
       "\n",
       "    NOME_MUNICIPIO_UNIDADE         NOME_MESORREGIAO_UNIDADE  \\\n",
       "127                Itaguaí  Metropolitana do Rio de Janeiro   \n",
       "441              Itabaiana                Agreste Sergipano   \n",
       "\n",
       "    NOME_MICRORREGIAO_UNIDADE  \n",
       "127                   Itaguaí  \n",
       "441      Agreste de Itabaiana  "
      ]
     },
     "execution_count": 15,
     "metadata": {},
     "output_type": "execute_result"
    }
   ],
   "source": [
    "# listar linhas aleatorias do DataFrame\n",
    "df.sample(2)"
   ]
  },
  {
   "cell_type": "code",
   "execution_count": 18,
   "metadata": {},
   "outputs": [
    {
     "ename": "NameError",
     "evalue": "name 'df_NOME_REGIAO_UNIDADE' is not defined",
     "output_type": "error",
     "traceback": [
      "\u001b[0;31m---------------------------------------------------------------------------\u001b[0m",
      "\u001b[0;31mNameError\u001b[0m                                 Traceback (most recent call last)",
      "\u001b[0;32m<ipython-input-18-40675b33d14c>\u001b[0m in \u001b[0;36m<module>\u001b[0;34m\u001b[0m\n\u001b[1;32m      1\u001b[0m \u001b[0;31m# podemos subdividir o dataframe com base em pedaço de palavra\u001b[0m\u001b[0;34m\u001b[0m\u001b[0;34m\u001b[0m\u001b[0;34m\u001b[0m\u001b[0m\n\u001b[0;32m----> 2\u001b[0;31m \u001b[0mdf_NOME_REGIAO_UNIDADE\u001b[0m\u001b[0;34m[\u001b[0m\u001b[0mdf_NOME_REGIAO_UNIDADE\u001b[0m\u001b[0;34m[\u001b[0m\u001b[0;34m'NOME_MUNICIPIO_UNIDADE'\u001b[0m\u001b[0;34m]\u001b[0m\u001b[0;34m.\u001b[0m\u001b[0mstr\u001b[0m\u001b[0;34m.\u001b[0m\u001b[0mcontains\u001b[0m\u001b[0;34m(\u001b[0m\u001b[0;34m'RIO'\u001b[0m\u001b[0;34m)\u001b[0m\u001b[0;34m]\u001b[0m\u001b[0;34m.\u001b[0m\u001b[0mcount\u001b[0m\u001b[0;34m(\u001b[0m\u001b[0;34m)\u001b[0m\u001b[0;34m\u001b[0m\u001b[0;34m\u001b[0m\u001b[0m\n\u001b[0m",
      "\u001b[0;31mNameError\u001b[0m: name 'df_NOME_REGIAO_UNIDADE' is not defined"
     ]
    }
   ],
   "source": [
    "# podemos subdividir o dataframe com base em pedaço de palavra\n",
    "df."
   ]
  },
  {
   "cell_type": "code",
   "execution_count": 19,
   "metadata": {},
   "outputs": [
    {
     "data": {
      "text/plain": [
       "Nordeste        202\n",
       "Sudeste         163\n",
       "Sul             116\n",
       "Norte            70\n",
       "Centro-Oeste     67\n",
       "Name: NOME_REGIAO_UNIDADE, dtype: int64"
      ]
     },
     "execution_count": 19,
     "metadata": {},
     "output_type": "execute_result"
    }
   ],
   "source": [
    "df['NOME_REGIAO_UNIDADE'].value_counts()"
   ]
  },
  {
   "cell_type": "code",
   "execution_count": 27,
   "metadata": {},
   "outputs": [
    {
     "data": {
      "text/plain": [
       "<matplotlib.axes._subplots.AxesSubplot at 0x11dc30a90>"
      ]
     },
     "execution_count": 27,
     "metadata": {},
     "output_type": "execute_result"
    },
    {
     "data": {
      "image/png": "[encoded data removed]",
      "text/plain": [
       "<Figure size 432x288 with 1 Axes>"
      ]
     },
     "metadata": {
      "needs_background": "light"
     },
     "output_type": "display_data"
    }
   ],
   "source": [
    "df['SIGLA_UF_UNIDADE'].value_counts(ascending = True).plot.barh(title = 'Quantidade de Unidades')"
   ]
  },
  {
   "cell_type": "code",
   "execution_count": null,
   "metadata": {},
   "outputs": [],
   "source": []
  }
 ],
 "metadata": {
  "kernelspec": {
   "display_name": "Python 3",
   "language": "python",
   "name": "python3"
  },
  "language_info": {
   "codemirror_mode": {
    "name": "ipython",
    "version": 3
   },
   "file_extension": ".py",
   "mimetype": "text/x-python",
   "name": "python",
   "nbconvert_exporter": "python",
   "pygments_lexer": "ipython3",
   "version": "3.7.3"
  }
 },
 "nbformat": 4,
 "nbformat_minor": 2
}
